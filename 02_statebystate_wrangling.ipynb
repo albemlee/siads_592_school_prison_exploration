{
 "cells": [
  {
   "cell_type": "markdown",
   "metadata": {},
   "source": [
    "Excel file had separate worksheet for each variable, and the years were columns within each sheet. This notebook transformed the data, so that there was a separate dataframe with all the variables for each year."
   ]
  },
  {
   "cell_type": "markdown",
   "metadata": {},
   "source": [
    "# Read data from excel files"
   ]
  },
  {
   "cell_type": "code",
   "execution_count": 1,
   "metadata": {},
   "outputs": [],
   "source": [
    "import pandas as pd\n",
    "import numpy as np"
   ]
  },
  {
   "cell_type": "markdown",
   "metadata": {},
   "source": [
    "# Create list of sheet names in Excel document"
   ]
  },
  {
   "cell_type": "code",
   "execution_count": 2,
   "metadata": {},
   "outputs": [],
   "source": [
    "sheet_names = [\n",
    "    'PK12ed',\n",
    "    'PK12ed_real',\n",
    "    'PK12ed_realperch',\n",
    "    'highered',\n",
    "    'highered_real',\n",
    "    'highered_realperch',\n",
    "    'edsubs',\n",
    "    'edsubs_real',\n",
    "    'edsubs_realperch',\n",
    "    'edservs',\n",
    "    'edservs_real',\n",
    "    'edservs_realperch',\n",
    "    'pell',\n",
    "    'pell_real',\n",
    "    'pell_realperch',\n",
    "    'HeadStartPriv',\n",
    "    'HeadStartPriv_real',\n",
    "    'HeadStartPriv_realperch',\n",
    "    'TANFbasic',\n",
    "    'TANFbasic_real',\n",
    "    'TANFbasic_realperch',\n",
    "    'othercashserv',\n",
    "    'othercashserv_real',\n",
    "    'othercashserv_realperch',\n",
    "    'SNAP',\n",
    "    'SNAP_real',\n",
    "    'SNAP_realperch',\n",
    "    'socsec',\n",
    "    'socsec_real',\n",
    "    'socsec_realperch',\n",
    "    'fedSSI',\n",
    "    'fedSSI_real',\n",
    "    'fedSSI_realperch',\n",
    "    'fedEITC',\n",
    "    'fedEITC_real',\n",
    "    'fedEITC_realperch',\n",
    "    'CTC',\n",
    "    'CTC_real',\n",
    "    'CTC_realperch',\n",
    "    'addCC',\n",
    "    'addCC_real',\n",
    "    'addCC_realperch',\n",
    "    'stateEITC',\n",
    "    'stateEITC_real',\n",
    "    'stateEITC_realperch',\n",
    "    'unemp',\n",
    "    'unemp_real',\n",
    "    'unemp_realperch',\n",
    "    'wcomp',\n",
    "    'wcomp_real',\n",
    "    'wcomp_realperch',\n",
    "    'Medicaid_CHIP',\n",
    "    'Medicaid_CHIP_real',\n",
    "    'Medicaid_CHIP_realperch',\n",
    "    'pubhealth',\n",
    "    'pubhealth_real',\n",
    "    'pubhealth_realperch',\n",
    "    'other_health',\n",
    "    'other_health_real',\n",
    "    'other_health_realperch',\n",
    "    'HCD',\n",
    "    'HCD_real',\n",
    "    'HCD_realperch',\n",
    "    'lib',\n",
    "    'lib_real',\n",
    "    'lib_realperch',\n",
    "    'parkrec',\n",
    "    'parkrec_real',\n",
    "    'parkrec_realperch'\n",
    "]"
   ]
  },
  {
   "cell_type": "markdown",
   "metadata": {},
   "source": [
    "# Loop through Excel sheets and create dataframes"
   ]
  },
  {
   "cell_type": "code",
   "execution_count": 52,
   "metadata": {},
   "outputs": [],
   "source": [
    "state_dict = {}\n",
    "for year in range(1997, 2017):\n",
    "    for sheet in sheet_names:\n",
    "        state_dict[sheet] = pd.read_excel(\n",
    "            'data/statebystatespending/State-by-State_Spending_on_Kids_0.xlsx', \n",
    "            sheet_name = sheet,\n",
    "            engine = 'openpyxl'\n",
    "        )[str(year)]\n",
    "    state_df = pd.DataFrame.from_dict(state_dict, orient='columns')\n",
    "    state_df.set_index(states.values, inplace=True)\n",
    "    state_df.to_csv('data/statebystatespending/{}_combined.csv'.format(year), index=True, na_rep='')"
   ]
  },
  {
   "cell_type": "code",
   "execution_count": null,
   "metadata": {},
   "outputs": [],
   "source": []
  }
 ],
 "metadata": {
  "kernelspec": {
   "display_name": "Python 3",
   "language": "python",
   "name": "python3"
  },
  "language_info": {
   "codemirror_mode": {
    "name": "ipython",
    "version": 3
   },
   "file_extension": ".py",
   "mimetype": "text/x-python",
   "name": "python",
   "nbconvert_exporter": "python",
   "pygments_lexer": "ipython3",
   "version": "3.8.5"
  }
 },
 "nbformat": 4,
 "nbformat_minor": 4
}
