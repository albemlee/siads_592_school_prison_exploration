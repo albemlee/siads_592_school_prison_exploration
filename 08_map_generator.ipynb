{
 "cells": [
  {
   "cell_type": "code",
   "execution_count": null,
   "metadata": {},
   "outputs": [],
   "source": [
    "import pandas as pd\n",
    "from helper import map_generator\n",
    "map_gen = map_generator()"
   ]
  },
  {
   "cell_type": "markdown",
   "metadata": {},
   "source": [
    "# MAP GENERATOR REPORT"
   ]
  },
  {
   "cell_type": "markdown",
   "metadata": {},
   "source": [
    "# Social Science and Map Visualizations: \n",
    "\n",
    "* Data collection in the social sciences always involves a spatial element insofar as humans are geographically bound objects of analysis.\n",
    "* As such, the use of spatial visualizations such as maps serve as a useful tool for exploring the implications of a given social science data set.\n",
    "* Maps are effective tools in the social science domain due to their ability to display historical narratives that might go unnoticed otherwise. \n",
    "* The ubiquity of maps as a tool for data communication ensures that users of differing backgrounds are readily able to extract useful information from geographic representations of data. \n",
    "\n",
    "* Although maps effectively communicate some variables, some features of data (such as uncertainty) are difficult to effectively encode in map form. Even so, maps should be considered an essential tool for any data exploration in the domain of social sciences. \n"
   ]
  },
  {
   "cell_type": "markdown",
   "metadata": {},
   "source": [
    "# PREPARING SOME DATA SETS\n",
    "1. Make sure there's a 'FIPS_Code' column (and a 'year' column).\n",
    "2. Make sure the variable you'd like to mapify is an integer. "
   ]
  },
  {
   "cell_type": "code",
   "execution_count": null,
   "metadata": {},
   "outputs": [],
   "source": [
    "##Importing the Vera Institutes Incrceration Trends - Ensuring that the FIPS_Code column exists\n",
    "\n",
    "file = 'data/incarcerationtrends/incarceration_trends.csv'\n",
    "df = pd.read_csv(file)\n",
    "df = df.rename(columns={'fips':'FIPS_Code'})\n",
    "len(df)"
   ]
  },
  {
   "cell_type": "code",
   "execution_count": null,
   "metadata": {},
   "outputs": [],
   "source": [
    "##Importing the Property Tax Data Frame - Ensuring that the FIPS_Code column exists.\n",
    "\n",
    "file = 'data/PropertyTaxDF.csv'\n",
    "df2 = pd.read_csv(file)\n",
    "df2 = df2.rename(columns={'County_Fip':'FIPS_Code'})\n",
    "df2['Average_House_Value']=df2['Average_House_Value'].replace(',','', regex=True)\n",
    "df2['Average_House_Value']=df2['Average_House_Value'].astype(int)\n",
    "df2['Average_RE_Tax_Per_$1000']=df2['Average_RE_Tax_Per_$1000'].replace(',','', regex=True)\n",
    "df2['Average_RE_Tax_Per_$1000']=df2['Average_RE_Tax_Per_$1000'].astype(int)\n",
    "df2['Average_House_Value']=df2['Average_House_Value'].replace(',','', regex=True)\n",
    "df2['Average_House_Value']=df2['Average_House_Value'].astype(int)\n",
    "len(df2)"
   ]
  },
  {
   "cell_type": "markdown",
   "metadata": {},
   "source": [
    "# USING THE MAP GENERATOR \n",
    "\n",
    "* Firstly, look at the columns, to identify the variables of interest. \n",
    "* After choosing a column of interest, ensure that it's a properly formatted integer and look at the summary statistics (in order to choose appropriate boundaries for the color schemes). \n",
    "* If necessary, use existing columns to create new variables, such as ratios. "
   ]
  },
  {
   "cell_type": "code",
   "execution_count": null,
   "metadata": {},
   "outputs": [],
   "source": [
    "## Looking at variables of interest.\n",
    "#list(df.columns),list(df2.columns)"
   ]
  },
  {
   "cell_type": "code",
   "execution_count": null,
   "metadata": {},
   "outputs": [],
   "source": [
    "## Fiddle with columns to create some new variables:\n",
    "\n",
    "df['county_state'] = df['county_name']+', '+df['state'] ## So that the state is included in the tooltip. \n",
    "df['black_prison_ratio'] = df['black_prison_pop']/df['black_pop_15to64'] ## Ratio of Black prison population to total Black population 15 to 64\n",
    "df['white_prison_ratio'] = df['white_prison_pop']/df['white_pop_15to64'] ## Ratio of Black prison population to total Black population 15 to 64\n",
    "df['incar_rate'] = df['total_prison_pop']/df['total_pop'] # Proportion of total population that is prisoners\n",
    "df['black_ratio'] = df['black_pop_15to64']/df['total_pop_15to64'] ## Proportion of total population (15 to 64) that is Black"
   ]
  },
  {
   "cell_type": "code",
   "execution_count": null,
   "metadata": {},
   "outputs": [],
   "source": [
    "#df['white_prison_adm_rate'].describe(), df['incar_rate'].describe(),df['black_prison_ratio'].describe(), df['black_pop_ratio'].describe()"
   ]
  },
  {
   "cell_type": "code",
   "execution_count": null,
   "metadata": {},
   "outputs": [],
   "source": [
    "#Proof of Concept \n",
    "## DF2 IS THE PROPERTY TAX BY COUNTIES DATA SET\n",
    "df2.columns"
   ]
  },
  {
   "cell_type": "markdown",
   "metadata": {},
   "source": [
    "## The Bokeh visualization library was used to create a function that takes the following parameters:\n",
    "\n",
    "* **df** - the name of the data frame \n",
    "* **year** - int - the year of interest (there is also a version for data frames without years)\n",
    "* **county_name_column** - str - the name of the counties as per the data frame\n",
    "* **variable_column** - str - the variable of interest in the data frame\n",
    "* **colors** - str - choice of color scheme from Color Brewer palette https://rdrr.io/cran/RColorBrewer/man/ColorBrewer.html \n",
    "* **low** - int - the min of the color scheme \n",
    "* **high** - int - the max of the color scheme \n",
    "* **title** - str - the title of the map\n"
   ]
  },
  {
   "cell_type": "code",
   "execution_count": null,
   "metadata": {},
   "outputs": [],
   "source": [
    "map_gen.getmap(\n",
    "    df = df2, ## NAME OF DATA FRAME - in this case, property taxes by county \n",
    "    county_name_column = 'County_Name', ## Column with names of counties\n",
    "    variable_column = 'Average_House_Value', ## Column with variable of interest\n",
    "    colors = 'PuOr', ## Color scheme\n",
    "    low = 50000, # Min palette \n",
    "    high = 300000, #Max palette\n",
    "    title = 'Average Home Value' #Tite of plot\n",
    ")"
   ]
  },
  {
   "cell_type": "markdown",
   "metadata": {},
   "source": [
    "# Telling the Story of Mass Incarceration with Maps"
   ]
  },
  {
   "cell_type": "code",
   "execution_count": null,
   "metadata": {},
   "outputs": [],
   "source": [
    "### TECHNICAL PROBLEM ### YEARS 1996 to 2004 don't seem to work for some reason and I have no idea why. "
   ]
  },
  {
   "cell_type": "markdown",
   "metadata": {},
   "source": [
    "## **Georgia**\n",
    "\n",
    "In exploring the Vera Institute's incarceration data, it made sense to start at the beginning. Using the map generator to look at incarceration rates in **1970** (the first year of available data), we see that only Georgia has any data at all (**MAP 1**). What does this mean? One way to interpret it is that Georgia was home to the vast majority of incarcerated Americans in 1970. Alternatively, one might note that perhaps Georgia started collecting incarceration data relatively early. The correct interpretation might be a mix of both. Perhaps Georgia was at the vanguard of data collection regarding prisoners in part due to it's extensive incarceration aparatus. After all, social science data collection is never independent from realities of political economy. \n",
    "\n",
    "This relatively early incarceration data from Georgia suggests that one must look beyond the data and investigate the history that could have generated such data in the first place. A quick Google search makes it clear that Georgia was indeed at the vanguard of data collection--for frightful reasons. Although the Thirteenth Amendment abolished American slavery, the language included one exception - forced labor was banned \"except as a punishment for crime\". The Reconstruction-era South was quick to latch onto this wording as a means to re-enslave the recently emancipated Black population. This new penchant for convict leasing meant that the exploitation of Black Americans thus began to take on a new form--mass incarceration. According to the 'Wikipedia' page on convict leasing (https://en.wikipedia.org/wiki/Convict_leasing), Georgia was the first to begin the large-scale re-enslavement of Black Americans: \"In Georgia convict leasing began in April 1868, when Union General and newly appointed provisional governor Thomas H. Ruger issued a convict lease for prisoners to William Fort for work on the Georgia and Alabama Railroad. The contract specified \"one hundred able bodied and healthy Negro convicts\" in return for a fee to the state of $2500.\" Given the early beginning's of Georgia's carceral state, it's unsurprising that Georgia was already engaging in robust data collection by 1970. Prisoners were assets after all.   \n",
    "\n",
    "Further reading: https://theconversation.com/prison-records-from-1800s-georgia-show-mass-incarcerations-racially-charged-beginnings-96612\n"
   ]
  },
  {
   "cell_type": "code",
   "execution_count": null,
   "metadata": {},
   "outputs": [],
   "source": [
    "## MAP 1\n",
    "## PERCENTAGE OF COUNTY POPULATION THAT IS INCARCERATED - 1970\n",
    "\n",
    "\n",
    "map_gen.getmap_with_year(\n",
    "    df = df,\n",
    "    year = 1970,\n",
    "    county_name_column = 'county_state',\n",
    "    variable_column = 'incar_rate',\n",
    "    colors = 'BuPu', \n",
    "    low = 0, \n",
    "    high = 0.003, \n",
    "    title = 'Incarceration Rates (1970)'\n",
    ")"
   ]
  },
  {
   "cell_type": "markdown",
   "metadata": {},
   "source": [
    "By **1983** data collection regarding incarceration begins to take off across the country (**MAP 2**). In order to allow for appropriate granularity, the 'max' paramater for the color scheme has to be adjusted to account for increasing incarceration rates (0.003 to 0.005). Indeed, in the 1970s, Nixon began the 'War on Drugs' with the 'tough on crime' campaign that has come to be seen as 'thinly veiled racial rhetoric' by modern analyists. (https://www.brennancenter.org/our-work/analysis-opinion/history-mass-incarceration) The prison population truly began to expand under Reagan, however, as the crack epidemic (a public health crisis) was used as a pretext to terrorize communities of color--Black communities in particular. "
   ]
  },
  {
   "cell_type": "code",
   "execution_count": null,
   "metadata": {},
   "outputs": [],
   "source": [
    "## MAP 2\n",
    "## PERCENTAGE OF COUNTY POPULATION THAT IS INCARCERATED - 1983\n",
    "\n",
    "\n",
    "map_gen.getmap_with_year(\n",
    "    df = df,\n",
    "    year = 1983,\n",
    "    county_name_column = 'county_state',\n",
    "    variable_column = 'incar_rate',\n",
    "    colors = 'BuPu', \n",
    "    low = 0, \n",
    "    high = 0.003, \n",
    "    title = 'Incarceration Rates (1983)'\n",
    ")"
   ]
  },
  {
   "cell_type": "markdown",
   "metadata": {},
   "source": [
    "In looking at the 1983 map, it becomes immediately clear, that the American South is leading the way with higher incarceration rates. Given the racialized origins of mass incarceration, it is perhaps unsurprising that these areas are home to more concentrated Black communities. "
   ]
  },
  {
   "cell_type": "code",
   "execution_count": null,
   "metadata": {},
   "outputs": [],
   "source": [
    "## MAP 3\n",
    "## PROPORTION OF POPULATION THAT IS BLACK - 2015 \n",
    "\n",
    "map_gen.getmap_with_year(\n",
    "    df = df,\n",
    "    year = 2015,\n",
    "    county_name_column = 'county_state',\n",
    "    variable_column = 'black_ratio',\n",
    "    colors = 'Greens', \n",
    "    low = 0, \n",
    "    high = 0.8, \n",
    "    title = 'Black Population Proportion (2015)'\n",
    ")"
   ]
  },
  {
   "cell_type": "markdown",
   "metadata": {},
   "source": [
    "By **1995**, the trend is clear. Incarceration rates are exploding across the country. "
   ]
  },
  {
   "cell_type": "code",
   "execution_count": null,
   "metadata": {},
   "outputs": [],
   "source": [
    "## MAP 4\n",
    "## PERCENTAGE OF COUNTY POPULATION THAT IS INCARCERATED - 1995\n",
    "\n",
    "map_gen.getmap_with_year(\n",
    "    df = df,\n",
    "    year = 1995,\n",
    "    county_name_column = 'county_state',\n",
    "    variable_column = 'incar_rate',\n",
    "    colors = 'BuPu', \n",
    "    low = 0, \n",
    "    high = 0.005, \n",
    "    title = 'Incarceration Rates (1995)'\n",
    ")"
   ]
  },
  {
   "cell_type": "markdown",
   "metadata": {},
   "source": [
    "By **2005**, it is clear that a new color scheme is needed to account for the increasing incarceration rates. (MAP 5)"
   ]
  },
  {
   "cell_type": "code",
   "execution_count": null,
   "metadata": {},
   "outputs": [],
   "source": [
    "## MAP 5 \n",
    "## PERCENTAGE OF COUNTY POPULATION THAT IS INCARCERATED - 2005\n",
    "\n",
    "map_gen.getmap_with_year(\n",
    "    df = df,\n",
    "    year = 2005,\n",
    "    county_name_column = 'county_state',\n",
    "    variable_column = 'incar_rate',\n",
    "    colors = 'BuPu', \n",
    "    low = 0, \n",
    "    high = 0.01, \n",
    "    title = 'Incarceration Rates (2005)'\n",
    ")"
   ]
  },
  {
   "cell_type": "markdown",
   "metadata": {},
   "source": [
    "By **2015**, it's clear that mass incarceration is a national phenomena, with the darkest color representing 1 in 100 people being incarcerated. (MAP 6)"
   ]
  },
  {
   "cell_type": "code",
   "execution_count": null,
   "metadata": {},
   "outputs": [],
   "source": [
    "## MAP 6\n",
    "## PERCENTAGE OF COUNTY POPULATION THAT IS INCARCERATED - 2015\n",
    "\n",
    "map_gen.getmap_with_year(\n",
    "    df = df,\n",
    "    year = 2015,\n",
    "    county_name_column = 'county_state',\n",
    "    variable_column = 'incar_rate',\n",
    "    colors = 'BuPu', \n",
    "    low = 0, \n",
    "    high = 0.01, \n",
    "    title = 'Incarceration Rates (2015)'\n",
    ")"
   ]
  },
  {
   "cell_type": "markdown",
   "metadata": {},
   "source": [
    "Given that the data have steered us towards examining the history of the mass incarceration of Black people, it is perhaps useful to explore the extent to which Black Americans are represented in the incarcerated population. (MAP 7)\n",
    "\n",
    "Using the tooltip to examine the particularly 'blue' counties allowed for Google searches to reveal the origins of the pattern. (NOTE: the darkest 'blue' connotes 1000 or more Black prisoners). "
   ]
  },
  {
   "cell_type": "code",
   "execution_count": null,
   "metadata": {},
   "outputs": [],
   "source": [
    "## MAP 7\n",
    "\n",
    "map_gen.getmap_with_year(\n",
    "    df = df,\n",
    "    year = 2015,\n",
    "    county_name_column = 'county_state',\n",
    "    variable_column = 'black_prison_pop',\n",
    "    colors = 'BuPu', \n",
    "    low = 0, \n",
    "    high = 1000, \n",
    "    title = 'black_prison_adm_rate'\n",
    ")"
   ]
  },
  {
   "cell_type": "markdown",
   "metadata": {},
   "source": [
    "Despite the usefulness of map visualizations, mapping populations alone can distort deeper patterns. Indeed, what becomes lost in this geospatial data is the extent to which people move. With respect to prisons, it is well-documented that prisoners are frequently moved from high-density counties to low-density counties. This pattern isn't immediately visible in the data. In order to examine this trend via mapping techniques, one must be creative with the data. As such, a new column was created in the data frame ('black_prison_ration') which calculated the ratio of the incarcerated Black population to the overall Black population (aged 15-64). Though analytically imperfect, this new column reveals a pattern whereby Black residents as a percentage of the population are being incarcerated at extremely high rates (often more than 10%) in some counties. This pattern suggests that Black prisoners are being moved from high-density counties to low-density counties. (MAP 8) \n",
    "\n",
    "Moreover, in replicating the above map generation with the White prison population (MAP 9), this pattern of displacement does not appear. "
   ]
  },
  {
   "cell_type": "code",
   "execution_count": null,
   "metadata": {},
   "outputs": [],
   "source": [
    "## MAP 8\n",
    "## Ratio of Black Prison Count to Black Population (15-64)\n",
    "\n",
    "map_gen.getmap_with_year(\n",
    "    df = df,\n",
    "    year = 2010,\n",
    "    county_name_column = 'county_state',\n",
    "    variable_column = 'black_prison_ratio',\n",
    "    colors = 'BuPu', \n",
    "    low = 0, \n",
    "    high = 0.1, \n",
    "    title = 'black_pop_ratio'\n",
    ")"
   ]
  },
  {
   "cell_type": "code",
   "execution_count": null,
   "metadata": {},
   "outputs": [],
   "source": [
    "## MAP 9\n",
    "## Ratio of White Prison Count to White Population (15-64)\n",
    "## NOTE: McPherson County, Nebraska has <500 people\n",
    "\n",
    "map_gen.getmap_with_year(\n",
    "    df = df,\n",
    "    year = 2010,\n",
    "    county_name_column = 'county_state',\n",
    "    variable_column = 'white_prison_ratio',\n",
    "    colors = 'RdPu', \n",
    "    low = 0, \n",
    "    high = 0.1, \n",
    "    title = 'white_pop_ratio'\n",
    ")"
   ]
  },
  {
   "cell_type": "markdown",
   "metadata": {},
   "source": [
    "# Conclusion "
   ]
  },
  {
   "cell_type": "markdown",
   "metadata": {},
   "source": [
    "The usage of mapping techniques to visualize the Vera Institute's incarceration trends data proved to be an effective technique for the historical analysis of mass incarceration in America. The very presence of thorough data in Georgia going back to 1970 indicated a large-scale incarceration apparatus was already being operated in that state. A review of the history of the Jim Crow South indicates that Georgia began the trend of 'convict leasing'--a widespread practice used to re-enslave Black Americans after the 13th amendment allowed for a labor-as-punishment loophole.\n",
    "\n",
    "As we watch incarceration rates skyrocket across America from the 1980s onwards, it becomes clear that the numbers reflect changes in federal policy as the Nixon administration began a tough-on-crime political culture that flourished during the Reagan years and was left unchallenged until relatively recently. Given that the modern prison system emerged from the 'convict leasing' system that began in Georgia, it is unsurprising that the trends toward mass incarceration began in the Deep South before spreading throughout the country. \n",
    "\n",
    "Moreover, the use of map data allowed us to visualize the extent to which Black Americans are displaced from high-density counties to low-density counties--a pattern that was not replicated for White Americans. This pattern further indicates the extent to which Black Americans have been targeted by mass incarceration, as well as the extent to which geographically bound data analysis has its shortcomings. Given that the of relationship between social inputs (e.g. education spending) and social outcomes (e.g. incarceration status) is not necessarily bound by geography, it may not be justifiable to dwell on statistical relationships that hinge on geograpic location (e.g. county). \n",
    "\n",
    "Finally, the usage of mapping techniques allowed for a rapid evaluation of the quality of the Vera Institute Data Set. Although substantial, this data set has significant gaps which would undermine any statistical relationships that might be gleaned from a large-n analysis. For instance, data from Illinois are often missing from the data set. Given the state's complex history of race and mass incarceration, its exclusion suggests that any statistical correlations discovered in the data set should be taken with a grain of salt. Nonetheless, the data largely bear out the documented history of an incarceration apparatus that targets Black Americans. This is a mass tragedy that will force American society to contemplate the meaning of 'justice' for generations to come."
   ]
  },
  {
   "cell_type": "markdown",
   "metadata": {},
   "source": [
    "## SAVE MAP "
   ]
  },
  {
   "cell_type": "code",
   "execution_count": null,
   "metadata": {},
   "outputs": [],
   "source": [
    "map_gen.savemap_with_year(\n",
    "    df = df, \n",
    "    year = 1970,\n",
    "    county_name_column = 'county_state', \n",
    "    variable_column = 'incar_rate', \n",
    "    colors = 'BuPu', \n",
    "    low = 0, \n",
    "    high = 0.003, \n",
    "    title = 'MAP 1: Incarceration Rates (1970)', \n",
    "    filename = 'charts/map_plots/MAP_1.png'\n",
    ");"
   ]
  },
  {
   "cell_type": "code",
   "execution_count": null,
   "metadata": {},
   "outputs": [],
   "source": [
    "map_gen.savemap_with_year(\n",
    "    df = df, \n",
    "    year = 1983,\n",
    "    county_name_column = 'county_state', \n",
    "    variable_column = 'incar_rate', \n",
    "    colors = 'BuPu', \n",
    "    low = 0, \n",
    "    high = 0.003, \n",
    "    title = 'MAP 2: Incarceration Rates (1983)', \n",
    "    filename = 'charts/map_plots/MAP_2.png'\n",
    ");"
   ]
  },
  {
   "cell_type": "code",
   "execution_count": null,
   "metadata": {},
   "outputs": [],
   "source": [
    "map_gen.savemap_with_year(\n",
    "    df = df, \n",
    "    year = 2015,\n",
    "    county_name_column = 'county_state', \n",
    "    variable_column = 'black_ratio', \n",
    "    colors = 'Greens', \n",
    "    low = 0, \n",
    "    high = 0.8, \n",
    "    title = 'MAP 3: Black Population Proportion (2015)', \n",
    "    filename = 'charts/map_plots/MAP_3.png'\n",
    ");"
   ]
  },
  {
   "cell_type": "code",
   "execution_count": null,
   "metadata": {},
   "outputs": [],
   "source": [
    "map_gen.savemap_with_year(\n",
    "    df = df, \n",
    "    year = 1995,\n",
    "    county_name_column = 'county_state', \n",
    "    variable_column = 'incar_rate', \n",
    "    colors = 'BuPu', \n",
    "    low = 0, \n",
    "    high = 0.01, \n",
    "    title = 'MAP 4: Incarceration Rates (1995)', \n",
    "    filename = 'charts/map_plots/MAP_4.png'\n",
    ");"
   ]
  },
  {
   "cell_type": "code",
   "execution_count": null,
   "metadata": {},
   "outputs": [],
   "source": [
    "map_gen.savemap_with_year(\n",
    "    df = df, \n",
    "    year = 2005,\n",
    "    county_name_column = 'county_state', \n",
    "    variable_column = 'incar_rate', \n",
    "    colors = 'BuPu', \n",
    "    low = 0, \n",
    "    high = 0.01, \n",
    "    title = 'MAP 5: Incarceration Rates (2005)', \n",
    "    filename = 'charts/map_plots/MAP_5.png'\n",
    ");"
   ]
  },
  {
   "cell_type": "code",
   "execution_count": null,
   "metadata": {},
   "outputs": [],
   "source": [
    "map_gen.savemap_with_year(\n",
    "    df = df, \n",
    "    year = 2015,\n",
    "    county_name_column = 'county_state', \n",
    "    variable_column = 'incar_rate', \n",
    "    colors = 'BuPu', \n",
    "    low = 0, \n",
    "    high = 0.01, \n",
    "    title = 'MAP 6: Incarceration Rates (2015)', \n",
    "    filename = 'charts/map_plots/MAP_6.png'\n",
    ");"
   ]
  },
  {
   "cell_type": "code",
   "execution_count": null,
   "metadata": {},
   "outputs": [],
   "source": [
    "map_gen.savemap_with_year(\n",
    "    df = df, \n",
    "    year = 2015,\n",
    "    county_name_column = 'county_state', \n",
    "    variable_column = 'black_prison_pop', \n",
    "    colors = 'BuPu', \n",
    "    low = 0, \n",
    "    high = 1000, \n",
    "    title = 'MAP 7: Total Black Prison Population', \n",
    "    filename = 'charts/map_plots/MAP_7.png'\n",
    ");"
   ]
  },
  {
   "cell_type": "code",
   "execution_count": null,
   "metadata": {},
   "outputs": [],
   "source": [
    "map_gen.savemap_with_year(\n",
    "    df = df, \n",
    "    year = 2010,\n",
    "    county_name_column = 'county_state', \n",
    "    variable_column = 'black_prison_pop', \n",
    "    colors = 'RdPu', \n",
    "    low = 0, \n",
    "    high = 0.1, \n",
    "    title = 'MAP 8: Proportion of Black Population That Is Incarcerated', \n",
    "    filename = 'charts/map_plots/MAP_8.png'\n",
    ");"
   ]
  },
  {
   "cell_type": "code",
   "execution_count": null,
   "metadata": {},
   "outputs": [],
   "source": [
    "map_gen.savemap_with_year(\n",
    "    df = df, \n",
    "    year = 2010,\n",
    "    county_name_column = 'county_state', \n",
    "    variable_column = 'white_prison_ratio', \n",
    "    colors = 'RdPu', \n",
    "    low = 0, \n",
    "    high = 0.1, \n",
    "    title = 'MAP 9: Proportion of White Population That Is Incarcerated', \n",
    "    filename = 'charts/map_plots/MAP_9.png'\n",
    ");"
   ]
  },
  {
   "cell_type": "code",
   "execution_count": null,
   "metadata": {},
   "outputs": [],
   "source": []
  }
 ],
 "metadata": {
  "kernelspec": {
   "display_name": "Python 3",
   "language": "python",
   "name": "python3"
  },
  "language_info": {
   "codemirror_mode": {
    "name": "ipython",
    "version": 3
   },
   "file_extension": ".py",
   "mimetype": "text/x-python",
   "name": "python",
   "nbconvert_exporter": "python",
   "pygments_lexer": "ipython3",
   "version": "3.8.5"
  }
 },
 "nbformat": 4,
 "nbformat_minor": 4
}
