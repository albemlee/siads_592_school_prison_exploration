{
 "cells": [
  {
   "cell_type": "code",
   "execution_count": 2,
   "metadata": {},
   "outputs": [],
   "source": [
    "from helper import EducationData_API\n",
    "import pandas as pd\n",
    "import numpy as np\n",
    "import matplotlib.pyplot as plt\n",
    "import sklearn\n",
    "from sklearn.preprocessing import StandardScaler\n",
    "from sklearn.decomposition import PCA"
   ]
  },
  {
   "cell_type": "markdown",
   "metadata": {},
   "source": [
    "# Apply PCA to find most relevant features"
   ]
  },
  {
   "cell_type": "code",
   "execution_count": 5,
   "metadata": {},
   "outputs": [
    {
     "name": "stdout",
     "output_type": "stream",
     "text": [
      "<class 'pandas.core.frame.DataFrame'>\n",
      "RangeIndex: 18680 entries, 0 to 18679\n",
      "Columns: 133 entries, year to enrollment_fall_school\n",
      "dtypes: float64(130), int64(2), object(1)\n",
      "memory usage: 19.0+ MB\n"
     ]
    }
   ],
   "source": [
    "# Loads data from csv\n",
    "finance_df_2016 = pd.read_csv('data/ccd_finance/2016_finance.csv')\n",
    "finance_df_2016.replace(-1, np.nan, inplace=True)\n",
    "finance_df_2016.replace(-2, np.nan, inplace=True)\n",
    "finance_df_2016.replace(-3, np.nan, inplace=True)\n",
    "finance_df_2016.info()"
   ]
  },
  {
   "cell_type": "code",
   "execution_count": 6,
   "metadata": {},
   "outputs": [
    {
     "name": "stdout",
     "output_type": "stream",
     "text": [
      "leaid: 18680\n",
      "censusid: 14667\n",
      "rev_total: 13837\n",
      "rev_state_total: 11418\n",
      "rev_state_gen_formula_assist: 10005\n",
      "rev_local_total: 10953\n",
      "exp_total: 13757\n",
      "exp_current_elsec_total: 13322\n",
      "exp_current_instruction_total: 11662\n",
      "exp_current_supp_serve_total: 10169\n",
      "salaries_total: 11445\n",
      "salaries_instruction: 10148\n"
     ]
    }
   ],
   "source": [
    "# Find possible identifier columns\n",
    "for column in finance_df_2016.columns:\n",
    "    if finance_df_2016[column].nunique() > 10000:\n",
    "        print('{}: {}'.format(column, finance_df_2016[column].nunique()))\n",
    "        \n",
    "identifier_columns = [\n",
    "    'leaid',\n",
    "    'censusid'\n",
    "]"
   ]
  },
  {
   "cell_type": "code",
   "execution_count": 7,
   "metadata": {},
   "outputs": [
    {
     "name": "stdout",
     "output_type": "stream",
     "text": [
      "year: 1\n",
      "fips: 51\n",
      "rev_fed_state_math_sci_teach: 887\n",
      "rev_fed_state_drug_free: 198\n",
      "rev_fed_state_vocational: 592\n",
      "rev_fed_state_bilingual_ed: 474\n",
      "rev_fed_direct_impact_aid: 597\n",
      "rev_fed_direct_indian_ed: 270\n",
      "rev_fed_arra: 0\n",
      "rev_fed_nonspec: 752\n",
      "rev_state_vocational_ed: 825\n",
      "rev_state_bilingual_ed: 501\n",
      "rev_state_gifted_talented: 465\n",
      "rev_state_sch_lunch: 533\n",
      "rev_state_not_employee_benefits: 670\n",
      "rev_state_nonspec: 786\n",
      "rev_local_sales_tax: 474\n",
      "rev_local_utility_tax: 419\n",
      "rev_local_income_tax: 812\n",
      "rev_local_other_tax: 819\n",
      "rev_local_tuition_fees: 946\n",
      "rev_local_transportation_fees: 272\n",
      "rev_local_textbook_sales_rents: 401\n",
      "rev_local_student_fees_nonspec: 200\n",
      "rev_local_rents_royalties: 772\n",
      "rev_local_property_sale: 476\n",
      "rev_local_fines_forfeits: 507\n",
      "rev_local_private_contrib: 864\n",
      "exp_current_supp_serv_nonspec: 75\n",
      "exp_current_enterprise: 740\n",
      "exp_current_other_elsec: 237\n",
      "exp_nonelsec_adult_education: 926\n",
      "exp_nonelsec_other: 632\n",
      "exp_current_arra: 0\n",
      "exp_tech_equipment: 836\n",
      "outlay_capital_nonspec_equip: 555\n",
      "outlay_capital_arra: 0\n",
      "payments_state_govt: 758\n",
      "payments_local_govt: 348\n",
      "benefits_supp_general_admin: 914\n",
      "benefits_enterprise_operations: 227\n"
     ]
    }
   ],
   "source": [
    "# Find possible categorical columns\n",
    "for column in finance_df_2016.columns:\n",
    "    if finance_df_2016[column].nunique() < 1000:\n",
    "        print('{}: {}'.format(column, finance_df_2016[column].nunique()))\n",
    "        \n",
    "categorical_columns = [\n",
    "    'year',\n",
    "    'fips'\n",
    "]"
   ]
  },
  {
   "cell_type": "code",
   "execution_count": 8,
   "metadata": {},
   "outputs": [
    {
     "name": "stdout",
     "output_type": "stream",
     "text": [
      "censusid: 4013\n",
      "rev_fed_arra: 18680\n",
      "rev_local_parent_govt: 17506\n",
      "rev_local_prop_tax: 6127\n",
      "rev_local_sales_tax: 6734\n",
      "rev_local_utility_tax: 6733\n",
      "rev_local_income_tax: 6734\n",
      "rev_local_other_tax: 6727\n",
      "exp_current_arra: 18680\n",
      "exp_current_state_local_funds: 10069\n",
      "exp_current_federal_funds: 10069\n",
      "outlay_capital_arra: 18680\n"
     ]
    }
   ],
   "source": [
    "# Find empty columns\n",
    "empty_columns = []\n",
    "for column in finance_df_2016.columns:\n",
    "    if finance_df_2016[column].isna().sum() > 2500:\n",
    "        empty_columns.append(column)\n",
    "        print('{}: {}'.format(column, finance_df_2016[column].isna().sum()))"
   ]
  },
  {
   "cell_type": "code",
   "execution_count": 9,
   "metadata": {},
   "outputs": [],
   "source": [
    "# Select columns that aren't identifiers or categorical\n",
    "X = finance_df_2016[[\n",
    "    column \n",
    "    for column in finance_df_2016.columns \n",
    "    if column not in identifier_columns + categorical_columns + empty_columns\n",
    "]].dropna()\n",
    "\n",
    "# Scale columns\n",
    "scaler = StandardScaler()\n",
    "scaler.fit(X)\n",
    "X_scaled = scaler.transform(X)"
   ]
  },
  {
   "cell_type": "code",
   "execution_count": 10,
   "metadata": {},
   "outputs": [
    {
     "data": {
      "text/plain": [
       "array([0.46616204, 0.10084479, 0.04011619, 0.02885506, 0.02709083,\n",
       "       0.02206693, 0.01993753, 0.01706356, 0.01519377, 0.01456437])"
      ]
     },
     "execution_count": 10,
     "metadata": {},
     "output_type": "execute_result"
    }
   ],
   "source": [
    "# PCA feature selection\n",
    "pca = PCA(n_components=10)\n",
    "pca.fit(X_scaled)\n",
    "pca.explained_variance_ratio_"
   ]
  },
  {
   "cell_type": "code",
   "execution_count": 11,
   "metadata": {},
   "outputs": [
    {
     "data": {
      "text/plain": [
       "PCA(n_components=3)"
      ]
     },
     "execution_count": 11,
     "metadata": {},
     "output_type": "execute_result"
    }
   ],
   "source": [
    "# Use 3 components based on elbow method\n",
    "pca = PCA(n_components=3)\n",
    "pca.fit(X_scaled)"
   ]
  },
  {
   "cell_type": "code",
   "execution_count": 12,
   "metadata": {},
   "outputs": [],
   "source": [
    "# find top features in each component\n",
    "top_features = pd.DataFrame(\n",
    "    np.absolute(pca.components_),\n",
    "    columns=X.columns,\n",
    "    index = ['PC1', 'PC2', 'PC3']\n",
    ")"
   ]
  },
  {
   "cell_type": "code",
   "execution_count": 13,
   "metadata": {},
   "outputs": [
    {
     "data": {
      "text/plain": [
       "<BarContainer object of 118 artists>"
      ]
     },
     "execution_count": 13,
     "metadata": {},
     "output_type": "execute_result"
    },
    {
     "data": {
      "image/png": "[encoded data removed]",
      "text/plain": [
       "<Figure size 432x288 with 1 Axes>"
      ]
     },
     "metadata": {
      "needs_background": "light"
     },
     "output_type": "display_data"
    }
   ],
   "source": [
    "pc1_weights = top_features.loc['PC1'].sort_values(ascending=False)\n",
    "plt.bar(pc1_weights.index, pc1_weights.values)"
   ]
  },
  {
   "cell_type": "code",
   "execution_count": 14,
   "metadata": {},
   "outputs": [
    {
     "data": {
      "text/plain": [
       "exp_current_supp_serve_total      0.133968\n",
       "exp_current_other                 0.132572\n",
       "exp_current_food_serv             0.132210\n",
       "enrollment_fall_responsible       0.131707\n",
       "enrollment_fall_school            0.131543\n",
       "salaries_total                    0.130909\n",
       "rev_fed_total                     0.130859\n",
       "salaries_food_service             0.130610\n",
       "benefits_supp_sch_admin           0.129960\n",
       "exp_current_sch_admin             0.129431\n",
       "rev_fed_child_nutrition_act       0.129396\n",
       "salaries_supp_bco                 0.129348\n",
       "rev_total                         0.129337\n",
       "exp_current_elsec_total           0.129266\n",
       "salaries_teachers_regular_prog    0.129146\n",
       "rev_state_total                   0.128725\n",
       "exp_total                         0.128683\n",
       "salaries_supp_sch_admin           0.128654\n",
       "exp_current_bco                   0.127038\n",
       "rev_state_gen_formula_assist      0.126668\n",
       "salaries_supp_operation_plant     0.126648\n",
       "exp_current_operation_plant       0.126631\n",
       "salaries_instruction              0.126553\n",
       "rev_fed_state_title_i             0.125156\n",
       "exp_current_instruction_total     0.124861\n",
       "rev_fed_state_idea                0.124429\n",
       "benefits_employee_total           0.124405\n",
       "benefits_supp_bco                 0.124163\n",
       "debt_longterm_outstand_beg_fy     0.124109\n",
       "debt_longterm_outstand_end_fy     0.123669\n",
       "rev_local_total                   0.121339\n",
       "benefits_supp_operation_plant     0.121150\n",
       "Name: PC1, dtype: float64"
      ]
     },
     "execution_count": 14,
     "metadata": {},
     "output_type": "execute_result"
    }
   ],
   "source": [
    "pc1_weights[pc1_weights > 0.12]"
   ]
  },
  {
   "cell_type": "code",
   "execution_count": 15,
   "metadata": {},
   "outputs": [
    {
     "data": {
      "text/plain": [
       "<BarContainer object of 118 artists>"
      ]
     },
     "execution_count": 15,
     "metadata": {},
     "output_type": "execute_result"
    },
    {
     "data": {
      "image/png": "[encoded data removed]",
      "text/plain": [
       "<Figure size 432x288 with 1 Axes>"
      ]
     },
     "metadata": {
      "needs_background": "light"
     },
     "output_type": "display_data"
    }
   ],
   "source": [
    "pc2_weights = top_features.loc['PC2'].sort_values(ascending=False)\n",
    "plt.bar(pc2_weights.index, pc2_weights.values)"
   ]
  },
  {
   "cell_type": "code",
   "execution_count": 16,
   "metadata": {},
   "outputs": [
    {
     "data": {
      "text/plain": [
       "rev_fed_nonspec                 0.210042\n",
       "payments_private_schools        0.207692\n",
       "salaries_teachers_vocational    0.190345\n",
       "payments_charter_schools        0.176944\n",
       "Name: PC2, dtype: float64"
      ]
     },
     "execution_count": 16,
     "metadata": {},
     "output_type": "execute_result"
    }
   ],
   "source": [
    "pc2_weights[pc2_weights > 0.175]"
   ]
  },
  {
   "cell_type": "code",
   "execution_count": 17,
   "metadata": {},
   "outputs": [
    {
     "data": {
      "text/plain": [
       "<BarContainer object of 118 artists>"
      ]
     },
     "execution_count": 17,
     "metadata": {},
     "output_type": "execute_result"
    },
    {
     "data": {
      "image/png": "[encoded data removed]",
      "text/plain": [
       "<Figure size 432x288 with 1 Axes>"
      ]
     },
     "metadata": {
      "needs_background": "light"
     },
     "output_type": "display_data"
    }
   ],
   "source": [
    "pc3_weights = top_features.loc['PC3'].sort_values(ascending=False)\n",
    "plt.bar(pc3_weights.index, pc3_weights.values)"
   ]
  },
  {
   "cell_type": "code",
   "execution_count": 18,
   "metadata": {},
   "outputs": [
    {
     "data": {
      "text/plain": [
       "rev_state_bilingual_ed           0.248521\n",
       "rev_state_gifted_talented        0.246353\n",
       "exp_utilities_energy             0.244135\n",
       "rev_state_vocational_ed          0.241757\n",
       "rev_local_dist_activ_receipts    0.226327\n",
       "assets_sinking_fund              0.220916\n",
       "Name: PC3, dtype: float64"
      ]
     },
     "execution_count": 18,
     "metadata": {},
     "output_type": "execute_result"
    }
   ],
   "source": [
    "pc3_weights[pc3_weights > 0.22]"
   ]
  },
  {
   "cell_type": "code",
   "execution_count": 19,
   "metadata": {},
   "outputs": [],
   "source": [
    "most_important_features = (\n",
    "    list(pc1_weights[pc1_weights > 0.12].index) + \n",
    "    list(pc2_weights[pc2_weights > 0.175].index) + \n",
    "    list(pc3_weights[pc3_weights > 0.22].index)\n",
    ")"
   ]
  },
  {
   "cell_type": "code",
   "execution_count": 20,
   "metadata": {},
   "outputs": [
    {
     "data": {
      "text/plain": [
       "['exp_current_supp_serve_total',\n",
       " 'exp_current_other',\n",
       " 'exp_current_food_serv',\n",
       " 'enrollment_fall_responsible',\n",
       " 'enrollment_fall_school',\n",
       " 'salaries_total',\n",
       " 'rev_fed_total',\n",
       " 'salaries_food_service',\n",
       " 'benefits_supp_sch_admin',\n",
       " 'exp_current_sch_admin',\n",
       " 'rev_fed_child_nutrition_act',\n",
       " 'salaries_supp_bco',\n",
       " 'rev_total',\n",
       " 'exp_current_elsec_total',\n",
       " 'salaries_teachers_regular_prog',\n",
       " 'rev_state_total',\n",
       " 'exp_total',\n",
       " 'salaries_supp_sch_admin',\n",
       " 'exp_current_bco',\n",
       " 'rev_state_gen_formula_assist',\n",
       " 'salaries_supp_operation_plant',\n",
       " 'exp_current_operation_plant',\n",
       " 'salaries_instruction',\n",
       " 'rev_fed_state_title_i',\n",
       " 'exp_current_instruction_total',\n",
       " 'rev_fed_state_idea',\n",
       " 'benefits_employee_total',\n",
       " 'benefits_supp_bco',\n",
       " 'debt_longterm_outstand_beg_fy',\n",
       " 'debt_longterm_outstand_end_fy',\n",
       " 'rev_local_total',\n",
       " 'benefits_supp_operation_plant',\n",
       " 'rev_fed_nonspec',\n",
       " 'payments_private_schools',\n",
       " 'salaries_teachers_vocational',\n",
       " 'payments_charter_schools',\n",
       " 'rev_state_bilingual_ed',\n",
       " 'rev_state_gifted_talented',\n",
       " 'exp_utilities_energy',\n",
       " 'rev_state_vocational_ed',\n",
       " 'rev_local_dist_activ_receipts',\n",
       " 'assets_sinking_fund']"
      ]
     },
     "execution_count": 20,
     "metadata": {},
     "output_type": "execute_result"
    }
   ],
   "source": [
    "most_important_features"
   ]
  }
 ],
 "metadata": {
  "kernelspec": {
   "display_name": "Python 3",
   "language": "python",
   "name": "python3"
  },
  "language_info": {
   "codemirror_mode": {
    "name": "ipython",
    "version": 3
   },
   "file_extension": ".py",
   "mimetype": "text/x-python",
   "name": "python",
   "nbconvert_exporter": "python",
   "pygments_lexer": "ipython3",
   "version": "3.8.5"
  }
 },
 "nbformat": 4,
 "nbformat_minor": 4
}
