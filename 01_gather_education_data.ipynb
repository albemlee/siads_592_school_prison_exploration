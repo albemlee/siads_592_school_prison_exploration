{
 "cells": [
  {
   "cell_type": "code",
   "execution_count": null,
   "metadata": {},
   "outputs": [],
   "source": [
    "import pandas as pd\n",
    "import numpy as np\n",
    "import requests\n",
    "\n",
    "from helper import EducationData_API"
   ]
  },
  {
   "cell_type": "markdown",
   "metadata": {},
   "source": [
    "## enrollment"
   ]
  },
  {
   "cell_type": "code",
   "execution_count": null,
   "metadata": {},
   "outputs": [],
   "source": [
    "# 1991 finance\n",
    "education_data_portal = EducationData_API(\n",
    "    topic = 'school-districts', \n",
    "    source = 'ccd', \n",
    "    endpoint = 'finance', \n",
    "    year = 1991\n",
    ")\n",
    "\n",
    "education_data_portal.get_request()\n",
    "\n",
    "education_data_portal.results_df.to_csv('data/ccd_finance/1991_finance.csv', index=False)"
   ]
  },
  {
   "cell_type": "code",
   "execution_count": null,
   "metadata": {},
   "outputs": [],
   "source": [
    "# 1994–2016 finance\n",
    "\n",
    "for api_year in range(1994, 2017):\n",
    "    education_data_portal = EducationData_API(\n",
    "        topic = 'school-districts', \n",
    "        source = 'ccd', \n",
    "        endpoint = 'finance', \n",
    "        year = api_year\n",
    "    )\n",
    "    education_data_portal.get_request()\n",
    "    education_data_portal.results_df.to_csv('data/ccd_finance/{}_finance.csv'.format(api_year), index=False)"
   ]
  },
  {
   "cell_type": "code",
   "execution_count": null,
   "metadata": {},
   "outputs": [],
   "source": [
    "# 1986-2018 directory\n",
    "for api_year in range(1986, 2019):\n",
    "    education_data_portal = EducationData_API(\n",
    "        topic = 'school-districts', \n",
    "        source = 'ccd', \n",
    "        endpoint = 'directory', \n",
    "        year = api_year\n",
    "    )\n",
    "    education_data_portal.get_request()\n",
    "    education_data_portal.results_df.to_csv('data/ccd_directory/{}_directory.csv'.format(api_year), index=False)"
   ]
  },
  {
   "cell_type": "code",
   "execution_count": null,
   "metadata": {},
   "outputs": [],
   "source": [
    "# crdc directory\n",
    "for api_year in range(1986, 2019):\n",
    "    education_data_portal = EducationData_API(\n",
    "        topic = 'schools', \n",
    "        source = 'crdc', \n",
    "        endpoint = 'directory', \n",
    "        year = api_year\n",
    "    )\n",
    "    education_data_portal.get_request()\n",
    "    education_data_portal.results_df.to_csv('data/crdc_directory/{}_directory.csv'.format(api_year), index=False)"
   ]
  },
  {
   "cell_type": "code",
   "execution_count": null,
   "metadata": {},
   "outputs": [],
   "source": [
    "# crdc enrollment\n",
    "# for api_year in [2011, 2013, 2015]:\n",
    "# for api_year in [2013, 2015]:\n",
    "for api_year in [2015]:\n",
    "    education_data_portal = EducationData_API(\n",
    "        topic = 'schools', \n",
    "        source = 'crdc', \n",
    "        endpoint = 'enrollment', \n",
    "        year = api_year\n",
    "    )\n",
    "    # race and sex\n",
    "    education_data_portal.base_url = 'https://educationdata.urban.org/api/v1/{}/{}/{}/{}/race/sex/'.format(\n",
    "            education_data_portal.topic,\n",
    "            education_data_portal.source,\n",
    "            education_data_portal.endpoint,\n",
    "            education_data_portal.year\n",
    "        )\n",
    "    education_data_portal.get_request()\n",
    "    education_data_portal.results_df.to_csv('data/crdc_enrollment/race_{}_enrollment.csv'.format(api_year), index=False)\n",
    "    # disability and sex\n",
    "    education_data_portal.base_url = 'https://educationdata.urban.org/api/v1/{}/{}/{}/{}/disability/sex/'.format(\n",
    "            education_data_portal.topic,\n",
    "            education_data_portal.source,\n",
    "            education_data_portal.endpoint,\n",
    "            education_data_portal.year\n",
    "        )\n",
    "    education_data_portal.get_request()\n",
    "    education_data_portal.results_df.to_csv('data/crdc_enrollment/disability_{}_enrollment.csv'.format(api_year), index=False)\n",
    "    # lep and sex\n",
    "    education_data_portal.base_url = 'https://educationdata.urban.org/api/v1/{}/{}/{}/{}/lep/sex/'.format(\n",
    "            education_data_portal.topic,\n",
    "            education_data_portal.source,\n",
    "            education_data_portal.endpoint,\n",
    "            education_data_portal.year\n",
    "        )\n",
    "    education_data_portal.get_request()\n",
    "    education_data_portal.results_df.to_csv('data/crdc_enrollment/lep_{}_enrollment.csv'.format(api_year), index=False)"
   ]
  },
  {
   "cell_type": "markdown",
   "metadata": {},
   "source": [
    "# Discipline"
   ]
  },
  {
   "cell_type": "code",
   "execution_count": null,
   "metadata": {},
   "outputs": [],
   "source": [
    "# crdc discipline\n",
    "for api_year in [2011, 2013, 2015]:\n",
    "    education_data_portal = EducationData_API(\n",
    "        topic = 'schools', \n",
    "        source = 'crdc', \n",
    "        endpoint = 'discipline', \n",
    "        year = api_year\n",
    "    )\n",
    "    # race and sex\n",
    "    education_data_portal.base_url = 'https://educationdata.urban.org/api/v1/{}/{}/{}/{}/race/sex/'.format(\n",
    "            education_data_portal.topic,\n",
    "            education_data_portal.source,\n",
    "            education_data_portal.endpoint,\n",
    "            education_data_portal.year\n",
    "        )\n",
    "    education_data_portal.get_request()\n",
    "    education_data_portal.results_df.to_csv('data/crdc_discipline/race_{}_discipline.csv'.format(api_year), index=False)\n",
    "    # disability and sex\n",
    "    education_data_portal.base_url = 'https://educationdata.urban.org/api/v1/{}/{}/{}/{}/disability/sex/'.format(\n",
    "            education_data_portal.topic,\n",
    "            education_data_portal.source,\n",
    "            education_data_portal.endpoint,\n",
    "            education_data_portal.year\n",
    "        )\n",
    "    education_data_portal.get_request()\n",
    "    education_data_portal.results_df.to_csv('data/crdc_discipline/disability_{}_discipline.csv'.format(api_year), index=False)\n",
    "    # lep and sex\n",
    "    education_data_portal.base_url = 'https://educationdata.urban.org/api/v1/{}/{}/{}/{}/lep/sex/'.format(\n",
    "            education_data_portal.topic,\n",
    "            education_data_portal.source,\n",
    "            education_data_portal.endpoint,\n",
    "            education_data_portal.year\n",
    "        )\n",
    "    education_data_portal.get_request()\n",
    "    education_data_portal.results_df.to_csv('data/crdc_discipline/lep_{}_discipline.csv'.format(api_year), index=False)"
   ]
  },
  {
   "cell_type": "code",
   "execution_count": null,
   "metadata": {},
   "outputs": [],
   "source": [
    "topic = 'schools'\n",
    "source = 'crdc'\n",
    "endpoint = 'discipline'\n",
    "year = 2011\n",
    "\n",
    "base_url = 'https://educationdata.urban.org/api/v1/{}/{}/{}/{}/lep/sex/'.format(\n",
    "    topic,\n",
    "    source,\n",
    "    endpoint,\n",
    "    year\n",
    ")\n",
    "\n",
    "results = []\n",
    "api_response = requests.get(url = base_url)\n",
    "\n",
    "results.extend(api_response.json()['results'])\n",
    "next_page = api_response.json()['next']\n",
    "i = 1\n",
    "while next_page and i < 10:\n",
    "    print(i)\n",
    "    api_response = requests.get(url = next_page)\n",
    "    results.extend(api_response.json()['results'])\n",
    "    next_page = api_response.json()['next']\n",
    "    i += 1"
   ]
  }
 ],
 "metadata": {
  "kernelspec": {
   "display_name": "Python 3",
   "language": "python",
   "name": "python3"
  },
  "language_info": {
   "codemirror_mode": {
    "name": "ipython",
    "version": 3
   },
   "file_extension": ".py",
   "mimetype": "text/x-python",
   "name": "python",
   "nbconvert_exporter": "python",
   "pygments_lexer": "ipython3",
   "version": "3.8.5"
  }
 },
 "nbformat": 4,
 "nbformat_minor": 4
}
